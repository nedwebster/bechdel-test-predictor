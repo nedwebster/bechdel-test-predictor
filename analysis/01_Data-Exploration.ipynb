{
 "cells": [
  {
   "cell_type": "markdown",
   "id": "1a6af5d1-1de0-4510-8eed-7a94a1a7b538",
   "metadata": {},
   "source": [
    "**SUMMARY**\n",
    "\n",
    "Performs simple checks on the data, drops duplicates and re-saves the data, ready for modelling."
   ]
  },
  {
   "cell_type": "code",
   "execution_count": 1,
   "id": "91ff39d3-91f4-41d8-b5a2-0b8a9481f12c",
   "metadata": {},
   "outputs": [],
   "source": [
    "import pandas as pd\n",
    "import numpy as np"
   ]
  },
  {
   "cell_type": "markdown",
   "id": "55d6e4d9-968f-49d5-adc1-9f2633304927",
   "metadata": {},
   "source": [
    "# Load Data"
   ]
  },
  {
   "cell_type": "code",
   "execution_count": 2,
   "id": "7d7411bc-68fa-49ae-9656-a3b3fa9b66ad",
   "metadata": {},
   "outputs": [
    {
     "name": "stdout",
     "output_type": "stream",
     "text": [
      "(7279, 21)\n",
      "(5856, 6)\n"
     ]
    }
   ],
   "source": [
    "df_movies = pd.read_csv(\"../data/female-representation-in-cinema/movies.csv\", index_col=0)\n",
    "print(df_movies.shape)\n",
    "df_oscars = pd.read_csv(\"../data/female-representation-in-cinema/oscar.csv\")\n",
    "print(df_oscars.shape)"
   ]
  },
  {
   "cell_type": "code",
   "execution_count": 3,
   "id": "50b7f3c6-abfb-478e-9634-3e0e80570aff",
   "metadata": {},
   "outputs": [
    {
     "name": "stdout",
     "output_type": "stream",
     "text": [
      "<class 'pandas.core.frame.DataFrame'>\n",
      "Index: 7279 entries, 0 to 7634\n",
      "Data columns (total 21 columns):\n",
      " #   Column                      Non-Null Count  Dtype  \n",
      "---  ------                      --------------  -----  \n",
      " 0   title                       7279 non-null   object \n",
      " 1   year                        7279 non-null   int64  \n",
      " 2   bt_score                    7279 non-null   int64  \n",
      " 3   dubious                     7279 non-null   int64  \n",
      " 4   imdbid                      7279 non-null   int64  \n",
      " 5   tmdbId                      7279 non-null   int64  \n",
      " 6   genres                      7279 non-null   object \n",
      " 7   popularity                  7279 non-null   float64\n",
      " 8   production_companies        7279 non-null   object \n",
      " 9   production_countries        7279 non-null   object \n",
      " 10  release_date                7279 non-null   object \n",
      " 11  revenue                     7279 non-null   float64\n",
      " 12  vote_average                7279 non-null   float64\n",
      " 13  vote_count                  7279 non-null   float64\n",
      " 14  cast                        7279 non-null   object \n",
      " 15  crew                        7279 non-null   object \n",
      " 16  budget                      7279 non-null   float64\n",
      " 17  cast_gender                 7279 non-null   object \n",
      " 18  crew_gender                 7279 non-null   object \n",
      " 19  cast_female_representation  7279 non-null   float64\n",
      " 20  crew_female_representation  7279 non-null   float64\n",
      "dtypes: float64(7), int64(5), object(9)\n",
      "memory usage: 1.2+ MB\n"
     ]
    }
   ],
   "source": [
    "df_movies.info()"
   ]
  },
  {
   "cell_type": "code",
   "execution_count": 4,
   "id": "4f9f39f3-3325-4ebf-be99-bf17465946d2",
   "metadata": {},
   "outputs": [
    {
     "name": "stdout",
     "output_type": "stream",
     "text": [
      "<class 'pandas.core.frame.DataFrame'>\n",
      "RangeIndex: 5856 entries, 0 to 5855\n",
      "Data columns (total 6 columns):\n",
      " #   Column    Non-Null Count  Dtype \n",
      "---  ------    --------------  ----- \n",
      " 0   year      5856 non-null   int64 \n",
      " 1   category  5856 non-null   object\n",
      " 2   film      5856 non-null   object\n",
      " 3   name      5856 non-null   object\n",
      " 4   status    5856 non-null   object\n",
      " 5   gender    5856 non-null   object\n",
      "dtypes: int64(1), object(5)\n",
      "memory usage: 274.6+ KB\n"
     ]
    }
   ],
   "source": [
    "df_oscars.info()"
   ]
  },
  {
   "cell_type": "markdown",
   "id": "2d24b39f-80e1-4cf0-9301-2bd7ee8014d4",
   "metadata": {},
   "source": [
    "# Drop Duplicates"
   ]
  },
  {
   "cell_type": "code",
   "execution_count": 5,
   "id": "0ef32b30-56a9-4362-8769-07f0268b4e29",
   "metadata": {},
   "outputs": [
    {
     "name": "stdout",
     "output_type": "stream",
     "text": [
      "7 rows dropped as duplicates\n",
      "(7272, 21)\n"
     ]
    }
   ],
   "source": [
    "# Drop duplicate rows\n",
    "n = df_movies.shape[0]\n",
    "df_movies = df_movies.drop_duplicates()\n",
    "print(f\"{n - df_movies.shape[0]} rows dropped as duplicates\")\n",
    "print(df_movies.shape)"
   ]
  },
  {
   "cell_type": "code",
   "execution_count": 6,
   "id": "7b92afe1-4cd4-4773-9273-2d1b7eccbf89",
   "metadata": {},
   "outputs": [
    {
     "data": {
      "text/plain": [
       "[('title', 7101, False),\n",
       " ('year', 125, False),\n",
       " ('bt_score', 4, False),\n",
       " ('dubious', 2, False),\n",
       " ('imdbid', 7271, False),\n",
       " ('tmdbId', 7271, False),\n",
       " ('genres', 1647, False),\n",
       " ('popularity', 6255, False),\n",
       " ('production_companies', 5859, False),\n",
       " ('production_countries', 763, False),\n",
       " ('release_date', 5187, False),\n",
       " ('revenue', 4166, False),\n",
       " ('vote_average', 63, False),\n",
       " ('vote_count', 2711, False),\n",
       " ('cast', 7271, False),\n",
       " ('crew', 7271, False),\n",
       " ('budget', 651, False),\n",
       " ('cast_gender', 7108, False),\n",
       " ('crew_gender', 6648, False),\n",
       " ('cast_female_representation', 902, False),\n",
       " ('crew_female_representation', 1212, False)]"
      ]
     },
     "execution_count": 6,
     "metadata": {},
     "output_type": "execute_result"
    }
   ],
   "source": [
    "# Do we have a unique key?\n",
    "[(col, df_movies[col].nunique(), df_movies[col].nunique() == df_movies.shape[0]) for col in df_movies.columns]"
   ]
  },
  {
   "cell_type": "code",
   "execution_count": 7,
   "id": "3971aea9-ba19-4194-9881-2163bb02bed5",
   "metadata": {},
   "outputs": [
    {
     "data": {
      "text/plain": [
       "7271"
      ]
     },
     "execution_count": 7,
     "metadata": {},
     "output_type": "execute_result"
    }
   ],
   "source": [
    "# How above title and year combination - is this unique?\n",
    "df_movies.drop_duplicates([\"title\", \"year\"]).shape[0]"
   ]
  },
  {
   "cell_type": "code",
   "execution_count": 8,
   "id": "f52819e7-2ad9-41d5-a2a0-d50673dd73a0",
   "metadata": {},
   "outputs": [],
   "source": [
    "# Almost. Seems like this is equivalent to imdbid/tmdbId\n",
    "# Define unique key\n",
    "key_col = \"imdbid\""
   ]
  },
  {
   "cell_type": "code",
   "execution_count": 9,
   "id": "37447cd3-b98c-4d8a-bab3-49582953bf14",
   "metadata": {},
   "outputs": [
    {
     "data": {
      "text/html": [
       "<div>\n",
       "<style scoped>\n",
       "    .dataframe tbody tr th:only-of-type {\n",
       "        vertical-align: middle;\n",
       "    }\n",
       "\n",
       "    .dataframe tbody tr th {\n",
       "        vertical-align: top;\n",
       "    }\n",
       "\n",
       "    .dataframe thead th {\n",
       "        text-align: right;\n",
       "    }\n",
       "</style>\n",
       "<table border=\"1\" class=\"dataframe\">\n",
       "  <thead>\n",
       "    <tr style=\"text-align: right;\">\n",
       "      <th></th>\n",
       "      <th>title</th>\n",
       "      <th>year</th>\n",
       "      <th>bt_score</th>\n",
       "      <th>dubious</th>\n",
       "      <th>imdbid</th>\n",
       "      <th>tmdbId</th>\n",
       "      <th>genres</th>\n",
       "      <th>popularity</th>\n",
       "      <th>production_companies</th>\n",
       "      <th>production_countries</th>\n",
       "      <th>...</th>\n",
       "      <th>revenue</th>\n",
       "      <th>vote_average</th>\n",
       "      <th>vote_count</th>\n",
       "      <th>cast</th>\n",
       "      <th>crew</th>\n",
       "      <th>budget</th>\n",
       "      <th>cast_gender</th>\n",
       "      <th>crew_gender</th>\n",
       "      <th>cast_female_representation</th>\n",
       "      <th>crew_female_representation</th>\n",
       "    </tr>\n",
       "  </thead>\n",
       "  <tbody>\n",
       "    <tr>\n",
       "      <th>3681</th>\n",
       "      <td>Into the Woods</td>\n",
       "      <td>2014</td>\n",
       "      <td>3</td>\n",
       "      <td>0</td>\n",
       "      <td>2180411</td>\n",
       "      <td>224141</td>\n",
       "      <td>['Fantasy', 'Comedy']</td>\n",
       "      <td>19.911</td>\n",
       "      <td>['Walt Disney Pictures', 'Marc Platt Productio...</td>\n",
       "      <td>['United States of America']</td>\n",
       "      <td>...</td>\n",
       "      <td>212902372.0</td>\n",
       "      <td>5.8</td>\n",
       "      <td>3855.0</td>\n",
       "      <td>[{'adult': False, 'gender': 1, 'id': 5064, 'kn...</td>\n",
       "      <td>[{'adult': False, 'gender': 1, 'id': 8384, 'kn...</td>\n",
       "      <td>50000000.0</td>\n",
       "      <td>[1, 1, 1, 2, 1, 1, 2, 2, 1, 2, 2, 1, 1, 1, 1, ...</td>\n",
       "      <td>[1, 0, 2, 1, 2, 1, 0, 0, 0, 0, 0, 2, 2, 2, 2, ...</td>\n",
       "      <td>57.142857</td>\n",
       "      <td>12.5</td>\n",
       "    </tr>\n",
       "    <tr>\n",
       "      <th>3682</th>\n",
       "      <td>Into the Woods</td>\n",
       "      <td>2014</td>\n",
       "      <td>3</td>\n",
       "      <td>1</td>\n",
       "      <td>2180411</td>\n",
       "      <td>224141</td>\n",
       "      <td>['Fantasy', 'Comedy']</td>\n",
       "      <td>19.911</td>\n",
       "      <td>['Walt Disney Pictures', 'Marc Platt Productio...</td>\n",
       "      <td>['United States of America']</td>\n",
       "      <td>...</td>\n",
       "      <td>212902372.0</td>\n",
       "      <td>5.8</td>\n",
       "      <td>3855.0</td>\n",
       "      <td>[{'adult': False, 'gender': 1, 'id': 5064, 'kn...</td>\n",
       "      <td>[{'adult': False, 'gender': 1, 'id': 8384, 'kn...</td>\n",
       "      <td>50000000.0</td>\n",
       "      <td>[1, 1, 1, 2, 1, 1, 2, 2, 1, 2, 2, 1, 1, 1, 1, ...</td>\n",
       "      <td>[1, 0, 2, 1, 2, 1, 0, 0, 0, 0, 0, 2, 2, 2, 2, ...</td>\n",
       "      <td>57.142857</td>\n",
       "      <td>12.5</td>\n",
       "    </tr>\n",
       "  </tbody>\n",
       "</table>\n",
       "<p>2 rows × 21 columns</p>\n",
       "</div>"
      ],
      "text/plain": [
       "               title  year  bt_score  dubious   imdbid  tmdbId  \\\n",
       "3681  Into the Woods  2014         3        0  2180411  224141   \n",
       "3682  Into the Woods  2014         3        1  2180411  224141   \n",
       "\n",
       "                     genres  popularity  \\\n",
       "3681  ['Fantasy', 'Comedy']      19.911   \n",
       "3682  ['Fantasy', 'Comedy']      19.911   \n",
       "\n",
       "                                   production_companies  \\\n",
       "3681  ['Walt Disney Pictures', 'Marc Platt Productio...   \n",
       "3682  ['Walt Disney Pictures', 'Marc Platt Productio...   \n",
       "\n",
       "              production_countries  ...      revenue  vote_average  \\\n",
       "3681  ['United States of America']  ...  212902372.0           5.8   \n",
       "3682  ['United States of America']  ...  212902372.0           5.8   \n",
       "\n",
       "      vote_count                                               cast  \\\n",
       "3681      3855.0  [{'adult': False, 'gender': 1, 'id': 5064, 'kn...   \n",
       "3682      3855.0  [{'adult': False, 'gender': 1, 'id': 5064, 'kn...   \n",
       "\n",
       "                                                   crew      budget  \\\n",
       "3681  [{'adult': False, 'gender': 1, 'id': 8384, 'kn...  50000000.0   \n",
       "3682  [{'adult': False, 'gender': 1, 'id': 8384, 'kn...  50000000.0   \n",
       "\n",
       "                                            cast_gender  \\\n",
       "3681  [1, 1, 1, 2, 1, 1, 2, 2, 1, 2, 2, 1, 1, 1, 1, ...   \n",
       "3682  [1, 1, 1, 2, 1, 1, 2, 2, 1, 2, 2, 1, 1, 1, 1, ...   \n",
       "\n",
       "                                            crew_gender  \\\n",
       "3681  [1, 0, 2, 1, 2, 1, 0, 0, 0, 0, 0, 2, 2, 2, 2, ...   \n",
       "3682  [1, 0, 2, 1, 2, 1, 0, 0, 0, 0, 0, 2, 2, 2, 2, ...   \n",
       "\n",
       "     cast_female_representation  crew_female_representation  \n",
       "3681                  57.142857                        12.5  \n",
       "3682                  57.142857                        12.5  \n",
       "\n",
       "[2 rows x 21 columns]"
      ]
     },
     "execution_count": 9,
     "metadata": {},
     "output_type": "execute_result"
    }
   ],
   "source": [
    "# Check remaining duplicates\n",
    "df_movies[df_movies.duplicated(key_col, keep=False) == True].head(10)"
   ]
  },
  {
   "cell_type": "code",
   "execution_count": 10,
   "id": "e9c09afd-b363-4289-b85d-e998a2e2df5f",
   "metadata": {},
   "outputs": [
    {
     "data": {
      "text/html": [
       "<div>\n",
       "<style scoped>\n",
       "    .dataframe tbody tr th:only-of-type {\n",
       "        vertical-align: middle;\n",
       "    }\n",
       "\n",
       "    .dataframe tbody tr th {\n",
       "        vertical-align: top;\n",
       "    }\n",
       "\n",
       "    .dataframe thead th {\n",
       "        text-align: right;\n",
       "    }\n",
       "</style>\n",
       "<table border=\"1\" class=\"dataframe\">\n",
       "  <thead>\n",
       "    <tr style=\"text-align: right;\">\n",
       "      <th></th>\n",
       "      <th>self</th>\n",
       "      <th>other</th>\n",
       "    </tr>\n",
       "  </thead>\n",
       "  <tbody>\n",
       "    <tr>\n",
       "      <th>dubious</th>\n",
       "      <td>0</td>\n",
       "      <td>1</td>\n",
       "    </tr>\n",
       "  </tbody>\n",
       "</table>\n",
       "</div>"
      ],
      "text/plain": [
       "        self other\n",
       "dubious    0     1"
      ]
     },
     "execution_count": 10,
     "metadata": {},
     "output_type": "execute_result"
    }
   ],
   "source": [
    "# Compare the two duplicate rows\n",
    "df_movies.loc[3681].compare(df_movies.loc[3682])"
   ]
  },
  {
   "cell_type": "code",
   "execution_count": 11,
   "id": "a2f41f89-2c0f-4e8f-a7f8-00e30a9a946b",
   "metadata": {},
   "outputs": [
    {
     "name": "stdout",
     "output_type": "stream",
     "text": [
      "(7271, 21)\n"
     ]
    }
   ],
   "source": [
    "# Dubious is the only duplicated field\n",
    "# better to be conservative and keep the row where dubious == 1\n",
    "\n",
    "index_to_drop = df_movies[(df_movies[\"imdbid\"] == 2180411) & (df_movies[\"dubious\"] == 0)].index\n",
    "df_movies = df_movies.drop(index_to_drop, axis=0)\n",
    "print(df_movies.shape)"
   ]
  },
  {
   "cell_type": "code",
   "execution_count": 12,
   "id": "7244a8c2-22e9-48d2-af1c-90f173dc4bec",
   "metadata": {},
   "outputs": [
    {
     "data": {
      "text/plain": [
       "True"
      ]
     },
     "execution_count": 12,
     "metadata": {},
     "output_type": "execute_result"
    }
   ],
   "source": [
    "# Double check that we have one row per key\n",
    "df_movies[key_col].nunique() == df_movies.shape[0]"
   ]
  },
  {
   "cell_type": "markdown",
   "id": "d24519c1-42b5-4b2c-b88c-13043e2d5cfa",
   "metadata": {},
   "source": [
    "# Bechedel Score Target"
   ]
  },
  {
   "cell_type": "code",
   "execution_count": 13,
   "id": "ffdf20aa-6ea4-4477-9a25-370b810747a4",
   "metadata": {},
   "outputs": [
    {
     "data": {
      "text/plain": [
       "bt_score\n",
       "3    0.553982\n",
       "1    0.232293\n",
       "0    0.107688\n",
       "2    0.106038\n",
       "Name: proportion, dtype: float64"
      ]
     },
     "execution_count": 13,
     "metadata": {},
     "output_type": "execute_result"
    }
   ],
   "source": [
    "# Score distribution\n",
    "df_movies[\"bt_score\"].value_counts(normalize=True)"
   ]
  },
  {
   "cell_type": "code",
   "execution_count": 14,
   "id": "6310e562-7d23-4ff3-ab3e-12661f746552",
   "metadata": {},
   "outputs": [
    {
     "data": {
      "text/html": [
       "<div>\n",
       "<style scoped>\n",
       "    .dataframe tbody tr th:only-of-type {\n",
       "        vertical-align: middle;\n",
       "    }\n",
       "\n",
       "    .dataframe tbody tr th {\n",
       "        vertical-align: top;\n",
       "    }\n",
       "\n",
       "    .dataframe thead th {\n",
       "        text-align: right;\n",
       "    }\n",
       "</style>\n",
       "<table border=\"1\" class=\"dataframe\">\n",
       "  <thead>\n",
       "    <tr style=\"text-align: right;\">\n",
       "      <th>bt_score</th>\n",
       "      <th>0</th>\n",
       "      <th>1</th>\n",
       "      <th>2</th>\n",
       "      <th>3</th>\n",
       "    </tr>\n",
       "    <tr>\n",
       "      <th>dubious</th>\n",
       "      <th></th>\n",
       "      <th></th>\n",
       "      <th></th>\n",
       "      <th></th>\n",
       "    </tr>\n",
       "  </thead>\n",
       "  <tbody>\n",
       "    <tr>\n",
       "      <th>0</th>\n",
       "      <td>0.977011</td>\n",
       "      <td>0.964476</td>\n",
       "      <td>0.885863</td>\n",
       "      <td>0.877358</td>\n",
       "    </tr>\n",
       "    <tr>\n",
       "      <th>1</th>\n",
       "      <td>0.022989</td>\n",
       "      <td>0.035524</td>\n",
       "      <td>0.114137</td>\n",
       "      <td>0.122642</td>\n",
       "    </tr>\n",
       "  </tbody>\n",
       "</table>\n",
       "</div>"
      ],
      "text/plain": [
       "bt_score         0         1         2         3\n",
       "dubious                                         \n",
       "0         0.977011  0.964476  0.885863  0.877358\n",
       "1         0.022989  0.035524  0.114137  0.122642"
      ]
     },
     "execution_count": 14,
     "metadata": {},
     "output_type": "execute_result"
    }
   ],
   "source": [
    "# Which score were reviewers most unsure about?\n",
    "# i.e. Were reviewers more dubious when awarding a 3?\n",
    "pd.crosstab(df_movies[\"dubious\"], df_movies[\"bt_score\"], normalize=\"columns\")"
   ]
  },
  {
   "cell_type": "markdown",
   "id": "8a4c705d-5c01-4cb6-8ba8-301fd974893b",
   "metadata": {},
   "source": [
    "It seems that reviewers were most sure about scores 0 and 1.\n",
    "\n",
    "Let's use this information to define a binary flag representing 'pass' and 'fail'.\n",
    "\n",
    "i.e. A movie passes when it has at least two (named) women in it, who talk to each other."
   ]
  },
  {
   "cell_type": "code",
   "execution_count": 15,
   "id": "f2857dad-9887-471b-b55d-65a803e01235",
   "metadata": {},
   "outputs": [
    {
     "data": {
      "text/plain": [
       "bt_pass\n",
       "1    0.660019\n",
       "0    0.339981\n",
       "Name: proportion, dtype: float64"
      ]
     },
     "execution_count": 15,
     "metadata": {},
     "output_type": "execute_result"
    }
   ],
   "source": [
    "y_col = \"bt_pass\"\n",
    "df_movies[y_col] = np.where(df_movies[\"bt_score\"].isin([2, 3]), 1, 0)\n",
    "\n",
    "# Check counts\n",
    "df_movies[y_col].value_counts(normalize=True)"
   ]
  },
  {
   "cell_type": "markdown",
   "id": "743f61ec-3f97-4768-bf2e-90ca4827413b",
   "metadata": {},
   "source": [
    "# TODO: Add df_oscars"
   ]
  },
  {
   "cell_type": "markdown",
   "id": "d44dcea3-92dc-4e65-be2c-376ed90fb490",
   "metadata": {},
   "source": [
    "# Export"
   ]
  },
  {
   "cell_type": "code",
   "execution_count": 16,
   "id": "640ec5ab-7392-49ee-8756-33cac3893cf0",
   "metadata": {},
   "outputs": [],
   "source": [
    "df_movies.to_csv(\"../data/raw.csv\", index=False)"
   ]
  },
  {
   "cell_type": "code",
   "execution_count": 17,
   "id": "18454d42-eb0f-41b5-87e9-5007783354eb",
   "metadata": {},
   "outputs": [
    {
     "data": {
      "text/html": [
       "<div>\n",
       "<style scoped>\n",
       "    .dataframe tbody tr th:only-of-type {\n",
       "        vertical-align: middle;\n",
       "    }\n",
       "\n",
       "    .dataframe tbody tr th {\n",
       "        vertical-align: top;\n",
       "    }\n",
       "\n",
       "    .dataframe thead th {\n",
       "        text-align: right;\n",
       "    }\n",
       "</style>\n",
       "<table border=\"1\" class=\"dataframe\">\n",
       "  <thead>\n",
       "    <tr style=\"text-align: right;\">\n",
       "      <th></th>\n",
       "      <th>title</th>\n",
       "      <th>year</th>\n",
       "      <th>bt_score</th>\n",
       "      <th>dubious</th>\n",
       "      <th>imdbid</th>\n",
       "      <th>tmdbId</th>\n",
       "      <th>genres</th>\n",
       "      <th>popularity</th>\n",
       "      <th>production_companies</th>\n",
       "      <th>production_countries</th>\n",
       "      <th>...</th>\n",
       "      <th>vote_average</th>\n",
       "      <th>vote_count</th>\n",
       "      <th>cast</th>\n",
       "      <th>crew</th>\n",
       "      <th>budget</th>\n",
       "      <th>cast_gender</th>\n",
       "      <th>crew_gender</th>\n",
       "      <th>cast_female_representation</th>\n",
       "      <th>crew_female_representation</th>\n",
       "      <th>bt_pass</th>\n",
       "    </tr>\n",
       "  </thead>\n",
       "  <tbody>\n",
       "    <tr>\n",
       "      <th>0</th>\n",
       "      <td>Cinderella</td>\n",
       "      <td>1899</td>\n",
       "      <td>3</td>\n",
       "      <td>0</td>\n",
       "      <td>230</td>\n",
       "      <td>114108</td>\n",
       "      <td>['Drama', 'Family', 'Fantasy', 'Romance']</td>\n",
       "      <td>3.762</td>\n",
       "      <td>['Star-Film', 'Georges Méliès']</td>\n",
       "      <td>['France']</td>\n",
       "      <td>...</td>\n",
       "      <td>6.1</td>\n",
       "      <td>79.0</td>\n",
       "      <td>[{'adult': False, 'gender': 2, 'id': 11523, 'k...</td>\n",
       "      <td>[{'adult': False, 'gender': 2, 'id': 11523, 'k...</td>\n",
       "      <td>0.0</td>\n",
       "      <td>[2, 0, 1, 0, 1, 0]</td>\n",
       "      <td>[2, 2, 2, 2]</td>\n",
       "      <td>33.333333</td>\n",
       "      <td>0.000000</td>\n",
       "      <td>1</td>\n",
       "    </tr>\n",
       "    <tr>\n",
       "      <th>1</th>\n",
       "      <td>Gretchen the Greenhorn</td>\n",
       "      <td>1916</td>\n",
       "      <td>3</td>\n",
       "      <td>0</td>\n",
       "      <td>6745</td>\n",
       "      <td>126925</td>\n",
       "      <td>[]</td>\n",
       "      <td>1.942</td>\n",
       "      <td>[]</td>\n",
       "      <td>[]</td>\n",
       "      <td>...</td>\n",
       "      <td>6.1</td>\n",
       "      <td>7.0</td>\n",
       "      <td>[{'adult': False, 'gender': 1, 'id': 30779, 'k...</td>\n",
       "      <td>[{'adult': False, 'gender': 2, 'id': 42060, 'k...</td>\n",
       "      <td>0.0</td>\n",
       "      <td>[1, 2, 2, 2]</td>\n",
       "      <td>[2, 2, 2]</td>\n",
       "      <td>25.000000</td>\n",
       "      <td>0.000000</td>\n",
       "      <td>1</td>\n",
       "    </tr>\n",
       "    <tr>\n",
       "      <th>2</th>\n",
       "      <td>Snow White</td>\n",
       "      <td>1916</td>\n",
       "      <td>3</td>\n",
       "      <td>0</td>\n",
       "      <td>7361</td>\n",
       "      <td>174598</td>\n",
       "      <td>['Fantasy', 'Drama']</td>\n",
       "      <td>0.817</td>\n",
       "      <td>[]</td>\n",
       "      <td>[]</td>\n",
       "      <td>...</td>\n",
       "      <td>5.7</td>\n",
       "      <td>9.0</td>\n",
       "      <td>[{'adult': False, 'gender': 0, 'id': 1658947, ...</td>\n",
       "      <td>[{'adult': False, 'gender': 2, 'id': 28968, 'k...</td>\n",
       "      <td>0.0</td>\n",
       "      <td>[0, 1, 2, 2, 0]</td>\n",
       "      <td>[2]</td>\n",
       "      <td>20.000000</td>\n",
       "      <td>0.000000</td>\n",
       "      <td>1</td>\n",
       "    </tr>\n",
       "    <tr>\n",
       "      <th>3</th>\n",
       "      <td>The Poor Little Rich Girl</td>\n",
       "      <td>1917</td>\n",
       "      <td>3</td>\n",
       "      <td>0</td>\n",
       "      <td>8443</td>\n",
       "      <td>95866</td>\n",
       "      <td>['Romance', 'Comedy', 'Drama', 'Fantasy']</td>\n",
       "      <td>2.023</td>\n",
       "      <td>['Artcraft Pictures Corporation']</td>\n",
       "      <td>['United States of America']</td>\n",
       "      <td>...</td>\n",
       "      <td>5.8</td>\n",
       "      <td>23.0</td>\n",
       "      <td>[{'adult': False, 'gender': 1, 'id': 100047, '...</td>\n",
       "      <td>[{'adult': False, 'gender': 2, 'id': 13335, 'k...</td>\n",
       "      <td>0.0</td>\n",
       "      <td>[1, 0, 0, 0, 2, 0, 1, 1, 0, 2, 0, 1, 1]</td>\n",
       "      <td>[2, 2, 1, 1, 2, 2, 0]</td>\n",
       "      <td>38.461538</td>\n",
       "      <td>28.571429</td>\n",
       "      <td>1</td>\n",
       "    </tr>\n",
       "    <tr>\n",
       "      <th>4</th>\n",
       "      <td>Stella Maris</td>\n",
       "      <td>1918</td>\n",
       "      <td>3</td>\n",
       "      <td>0</td>\n",
       "      <td>9652</td>\n",
       "      <td>70753</td>\n",
       "      <td>['Drama']</td>\n",
       "      <td>1.310</td>\n",
       "      <td>['Mary Pickford Company']</td>\n",
       "      <td>['United States of America']</td>\n",
       "      <td>...</td>\n",
       "      <td>6.9</td>\n",
       "      <td>19.0</td>\n",
       "      <td>[{'adult': False, 'gender': 1, 'id': 100047, '...</td>\n",
       "      <td>[{'adult': False, 'gender': 1, 'id': 34741, 'k...</td>\n",
       "      <td>0.0</td>\n",
       "      <td>[1, 1, 2, 2, 1, 0, 0, 2]</td>\n",
       "      <td>[1, 2, 2, 0, 2, 2]</td>\n",
       "      <td>37.500000</td>\n",
       "      <td>16.666667</td>\n",
       "      <td>1</td>\n",
       "    </tr>\n",
       "  </tbody>\n",
       "</table>\n",
       "<p>5 rows × 22 columns</p>\n",
       "</div>"
      ],
      "text/plain": [
       "                       title  year  bt_score  dubious  imdbid  tmdbId  \\\n",
       "0                 Cinderella  1899         3        0     230  114108   \n",
       "1     Gretchen the Greenhorn  1916         3        0    6745  126925   \n",
       "2                 Snow White  1916         3        0    7361  174598   \n",
       "3  The Poor Little Rich Girl  1917         3        0    8443   95866   \n",
       "4               Stella Maris  1918         3        0    9652   70753   \n",
       "\n",
       "                                      genres  popularity  \\\n",
       "0  ['Drama', 'Family', 'Fantasy', 'Romance']       3.762   \n",
       "1                                         []       1.942   \n",
       "2                       ['Fantasy', 'Drama']       0.817   \n",
       "3  ['Romance', 'Comedy', 'Drama', 'Fantasy']       2.023   \n",
       "4                                  ['Drama']       1.310   \n",
       "\n",
       "                production_companies          production_countries  ...  \\\n",
       "0    ['Star-Film', 'Georges Méliès']                    ['France']  ...   \n",
       "1                                 []                            []  ...   \n",
       "2                                 []                            []  ...   \n",
       "3  ['Artcraft Pictures Corporation']  ['United States of America']  ...   \n",
       "4          ['Mary Pickford Company']  ['United States of America']  ...   \n",
       "\n",
       "  vote_average  vote_count                                               cast  \\\n",
       "0          6.1        79.0  [{'adult': False, 'gender': 2, 'id': 11523, 'k...   \n",
       "1          6.1         7.0  [{'adult': False, 'gender': 1, 'id': 30779, 'k...   \n",
       "2          5.7         9.0  [{'adult': False, 'gender': 0, 'id': 1658947, ...   \n",
       "3          5.8        23.0  [{'adult': False, 'gender': 1, 'id': 100047, '...   \n",
       "4          6.9        19.0  [{'adult': False, 'gender': 1, 'id': 100047, '...   \n",
       "\n",
       "                                                crew budget  \\\n",
       "0  [{'adult': False, 'gender': 2, 'id': 11523, 'k...    0.0   \n",
       "1  [{'adult': False, 'gender': 2, 'id': 42060, 'k...    0.0   \n",
       "2  [{'adult': False, 'gender': 2, 'id': 28968, 'k...    0.0   \n",
       "3  [{'adult': False, 'gender': 2, 'id': 13335, 'k...    0.0   \n",
       "4  [{'adult': False, 'gender': 1, 'id': 34741, 'k...    0.0   \n",
       "\n",
       "                               cast_gender            crew_gender  \\\n",
       "0                       [2, 0, 1, 0, 1, 0]           [2, 2, 2, 2]   \n",
       "1                             [1, 2, 2, 2]              [2, 2, 2]   \n",
       "2                          [0, 1, 2, 2, 0]                    [2]   \n",
       "3  [1, 0, 0, 0, 2, 0, 1, 1, 0, 2, 0, 1, 1]  [2, 2, 1, 1, 2, 2, 0]   \n",
       "4                 [1, 1, 2, 2, 1, 0, 0, 2]     [1, 2, 2, 0, 2, 2]   \n",
       "\n",
       "  cast_female_representation crew_female_representation  bt_pass  \n",
       "0                  33.333333                   0.000000        1  \n",
       "1                  25.000000                   0.000000        1  \n",
       "2                  20.000000                   0.000000        1  \n",
       "3                  38.461538                  28.571429        1  \n",
       "4                  37.500000                  16.666667        1  \n",
       "\n",
       "[5 rows x 22 columns]"
      ]
     },
     "execution_count": 17,
     "metadata": {},
     "output_type": "execute_result"
    }
   ],
   "source": [
    "df_movies.head()"
   ]
  }
 ],
 "metadata": {
  "kernelspec": {
   "display_name": "Python 3 (ipykernel)",
   "language": "python",
   "name": "python3"
  },
  "language_info": {
   "codemirror_mode": {
    "name": "ipython",
    "version": 3
   },
   "file_extension": ".py",
   "mimetype": "text/x-python",
   "name": "python",
   "nbconvert_exporter": "python",
   "pygments_lexer": "ipython3",
   "version": "3.10.13"
  }
 },
 "nbformat": 4,
 "nbformat_minor": 5
}
