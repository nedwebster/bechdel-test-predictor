{
 "cells": [
  {
   "cell_type": "markdown",
   "id": "73035700-4ce5-4d10-9ff3-bbf5736f7e01",
   "metadata": {},
   "source": [
    "# API Example"
   ]
  },
  {
   "cell_type": "markdown",
   "id": "a47d8956-9358-4a99-8c1e-ea33d43f4336",
   "metadata": {},
   "source": [
    "The `BechdelAPI` class is the main interface for users to interact with the model. It allows users to pull movie information from the open database, transform that data, generate predictions, and format those predictions to into a user friendly output."
   ]
  },
  {
   "cell_type": "markdown",
   "id": "c477a8a2-8e96-42d5-9629-b4f852191040",
   "metadata": {},
   "source": [
    "## Setup"
   ]
  },
  {
   "cell_type": "code",
   "execution_count": 1,
   "id": "befd052e-c6d1-47a2-9078-979b485b8876",
   "metadata": {},
   "outputs": [],
   "source": [
    "from pprint import pprint\n",
    "\n",
    "from bechdel_test_predictor import BechdelAPI"
   ]
  },
  {
   "cell_type": "code",
   "execution_count": 2,
   "id": "7546df76-9e75-417f-a0fa-6b685af3084f",
   "metadata": {},
   "outputs": [],
   "source": [
    "bechdel_api = BechdelAPI()"
   ]
  },
  {
   "cell_type": "markdown",
   "id": "149ee224-01cb-4375-8d0b-f6b91f4b69e7",
   "metadata": {},
   "source": [
    "## Load a movie\n",
    "You can load a movie from TheMovieDatabase by passing the title to the `get_movie()` method."
   ]
  },
  {
   "cell_type": "code",
   "execution_count": 4,
   "id": "a9d2c1cf-2f6b-4fdb-af4a-0d5997b65937",
   "metadata": {},
   "outputs": [],
   "source": [
    "movie = bechdel_api.get_movie(title=\"The Big Short\")"
   ]
  },
  {
   "cell_type": "code",
   "execution_count": 5,
   "id": "89954384-5175-4703-95aa-14fa1ea93f83",
   "metadata": {},
   "outputs": [
    {
     "data": {
      "text/plain": [
       "\"Movie(id='318846', title='The Big Short'\""
      ]
     },
     "execution_count": 5,
     "metadata": {},
     "output_type": "execute_result"
    }
   ],
   "source": [
    "movie.summary()"
   ]
  },
  {
   "cell_type": "markdown",
   "id": "adcde154-f00a-4648-849a-6877b8b7b4c5",
   "metadata": {},
   "source": [
    "## Process a movie\n",
    "You can process a movie from it's raw data into a model ready `pd.DataFrame` by using the `process_movie()` method."
   ]
  },
  {
   "cell_type": "code",
   "execution_count": 6,
   "id": "55923ba8-4ae8-4ba5-b48c-c45666eeb48a",
   "metadata": {},
   "outputs": [],
   "source": [
    "processed_movie = bechdel_api.process_movie(movie)"
   ]
  },
  {
   "cell_type": "code",
   "execution_count": 7,
   "id": "759d0f06-c8ce-4c13-ad90-bbb6703149c9",
   "metadata": {},
   "outputs": [
    {
     "data": {
      "text/html": [
       "<div>\n",
       "<style scoped>\n",
       "    .dataframe tbody tr th:only-of-type {\n",
       "        vertical-align: middle;\n",
       "    }\n",
       "\n",
       "    .dataframe tbody tr th {\n",
       "        vertical-align: top;\n",
       "    }\n",
       "\n",
       "    .dataframe thead th {\n",
       "        text-align: right;\n",
       "    }\n",
       "</style>\n",
       "<table border=\"1\" class=\"dataframe\">\n",
       "  <thead>\n",
       "    <tr style=\"text-align: right;\">\n",
       "      <th></th>\n",
       "      <th>title</th>\n",
       "      <th>year</th>\n",
       "      <th>imdbid</th>\n",
       "      <th>tmdbId</th>\n",
       "      <th>genres</th>\n",
       "      <th>popularity</th>\n",
       "      <th>production_companies</th>\n",
       "      <th>production_countries</th>\n",
       "      <th>release_date</th>\n",
       "      <th>revenue</th>\n",
       "      <th>vote_average</th>\n",
       "      <th>vote_count</th>\n",
       "      <th>cast</th>\n",
       "      <th>crew</th>\n",
       "      <th>budget</th>\n",
       "      <th>cast_gender</th>\n",
       "      <th>crew_gender</th>\n",
       "      <th>cast_female_representation</th>\n",
       "      <th>crew_female_representation</th>\n",
       "    </tr>\n",
       "  </thead>\n",
       "  <tbody>\n",
       "    <tr>\n",
       "      <th>0</th>\n",
       "      <td>The Big Short</td>\n",
       "      <td>2015</td>\n",
       "      <td>tt1596363</td>\n",
       "      <td>318846</td>\n",
       "      <td>[\"Comedy\", \"Drama\"]</td>\n",
       "      <td>52.088</td>\n",
       "      <td>[\"Paramount\", \"Regency Enterprises\", \"Plan B E...</td>\n",
       "      <td>[\"United States of America\"]</td>\n",
       "      <td>11/12/2015</td>\n",
       "      <td>133346506</td>\n",
       "      <td>7.349</td>\n",
       "      <td>8608</td>\n",
       "      <td>[{\"id\": 4495, \"gender\": 2, \"popularity\": 67.30...</td>\n",
       "      <td>[{\"id\": 287, \"gender\": 2, \"popularity\": 81.763...</td>\n",
       "      <td>28000000</td>\n",
       "      <td>[2, 2, 2, 2, 2, 2, 2, 2, 2, 1, 1, 2, 2, 1, 1, ...</td>\n",
       "      <td>[2, 2, 1, 2, 2, 1, 0, 2, 2, 1, 1, 2, 2, 2, 1, ...</td>\n",
       "      <td>24.468085</td>\n",
       "      <td>14.215686</td>\n",
       "    </tr>\n",
       "  </tbody>\n",
       "</table>\n",
       "</div>"
      ],
      "text/plain": [
       "           title  year     imdbid  tmdbId               genres  popularity  \\\n",
       "0  The Big Short  2015  tt1596363  318846  [\"Comedy\", \"Drama\"]      52.088   \n",
       "\n",
       "                                production_companies  \\\n",
       "0  [\"Paramount\", \"Regency Enterprises\", \"Plan B E...   \n",
       "\n",
       "           production_countries release_date    revenue  vote_average  \\\n",
       "0  [\"United States of America\"]   11/12/2015  133346506         7.349   \n",
       "\n",
       "   vote_count                                               cast  \\\n",
       "0        8608  [{\"id\": 4495, \"gender\": 2, \"popularity\": 67.30...   \n",
       "\n",
       "                                                crew    budget  \\\n",
       "0  [{\"id\": 287, \"gender\": 2, \"popularity\": 81.763...  28000000   \n",
       "\n",
       "                                         cast_gender  \\\n",
       "0  [2, 2, 2, 2, 2, 2, 2, 2, 2, 1, 1, 2, 2, 1, 1, ...   \n",
       "\n",
       "                                         crew_gender  \\\n",
       "0  [2, 2, 1, 2, 2, 1, 0, 2, 2, 1, 1, 2, 2, 2, 1, ...   \n",
       "\n",
       "   cast_female_representation  crew_female_representation  \n",
       "0                   24.468085                   14.215686  "
      ]
     },
     "execution_count": 7,
     "metadata": {},
     "output_type": "execute_result"
    }
   ],
   "source": [
    "processed_movie"
   ]
  },
  {
   "cell_type": "markdown",
   "id": "5a9acc7e-0e9f-4a5d-91ed-ba0af348a4f8",
   "metadata": {},
   "source": [
    "## Generate a prediction\n",
    "You can generate a prediction by passing the processed movie `pd.DataFrame` to the `get_prediction()` method.\n",
    "\n",
    "NOTE: This currently uses a random model, since the ML model has not yet been trained."
   ]
  },
  {
   "cell_type": "code",
   "execution_count": 8,
   "id": "be77bc58-0c11-458b-a99e-4e86ce009a07",
   "metadata": {},
   "outputs": [],
   "source": [
    "prediction = bechdel_api.get_prediction(processed_movie)"
   ]
  },
  {
   "cell_type": "code",
   "execution_count": 9,
   "id": "e1f87999-b206-4650-ade5-13deb9531bbd",
   "metadata": {},
   "outputs": [
    {
     "data": {
      "text/plain": [
       "2"
      ]
     },
     "execution_count": 9,
     "metadata": {},
     "output_type": "execute_result"
    }
   ],
   "source": [
    "prediction"
   ]
  },
  {
   "cell_type": "markdown",
   "id": "6eeceaf8-469c-486b-9a88-32f7072cacb1",
   "metadata": {},
   "source": [
    "## Format the prediction\n",
    "You can format the prediction by passing the movie title, along with the prediction int to the `format_prediction()` method."
   ]
  },
  {
   "cell_type": "code",
   "execution_count": 11,
   "id": "afc0d2cc-f097-4711-a501-a806ae832c89",
   "metadata": {},
   "outputs": [],
   "source": [
    "formatted_prediction = bechdel_api.format_prediction(movie.title, prediction)"
   ]
  },
  {
   "cell_type": "code",
   "execution_count": 12,
   "id": "2bbec4c1-cd68-4441-9f6f-6d98ab1e180f",
   "metadata": {},
   "outputs": [
    {
     "data": {
      "text/plain": [
       "{'title': 'The Big Short',\n",
       " 'prediction': 2,\n",
       " 'classified_prediction': 'partial fail',\n",
       " 'summary': 'We predict the movie will have at least two women who talk to each other.'}"
      ]
     },
     "execution_count": 12,
     "metadata": {},
     "output_type": "execute_result"
    }
   ],
   "source": [
    "formatted_prediction"
   ]
  },
  {
   "cell_type": "markdown",
   "id": "b2ce93d1-dbe2-4ded-b2d7-d6cff32f6c39",
   "metadata": {},
   "source": [
    "## Complete wrapper\n",
    "The `BechdelAPI` class has a user friendly wrapper for the end-to-end process above. You can simply pass the movie title to the`get_bechdel_prediction()` method to return the fully formatted prediction dictionary."
   ]
  },
  {
   "cell_type": "code",
   "execution_count": 13,
   "id": "43f6ec34-a2a3-4a23-8f9a-12ff5ce9d3a2",
   "metadata": {},
   "outputs": [],
   "source": [
    "prediction = bechdel_api.get_bechdel_prediction(title=\"Bend it like Beckham\")"
   ]
  },
  {
   "cell_type": "code",
   "execution_count": 14,
   "id": "20a08dfa-dbc2-4743-acc2-5f4a6b1ceb92",
   "metadata": {},
   "outputs": [
    {
     "data": {
      "text/plain": [
       "{'title': 'Bend It Like Beckham',\n",
       " 'prediction': 3,\n",
       " 'classified_prediction': 'pass',\n",
       " 'summary': 'We predict the movie will have at least two women who talk to each other about something besides a man!'}"
      ]
     },
     "execution_count": 14,
     "metadata": {},
     "output_type": "execute_result"
    }
   ],
   "source": [
    "prediction"
   ]
  },
  {
   "cell_type": "code",
   "execution_count": null,
   "id": "847c1d86-6616-4508-a8cd-5b3f788e6c11",
   "metadata": {},
   "outputs": [],
   "source": []
  }
 ],
 "metadata": {
  "kernelspec": {
   "display_name": "bechdel-test-predictor-py3.10",
   "language": "python",
   "name": "bechdel-test-predictor-py3.10"
  },
  "language_info": {
   "codemirror_mode": {
    "name": "ipython",
    "version": 3
   },
   "file_extension": ".py",
   "mimetype": "text/x-python",
   "name": "python",
   "nbconvert_exporter": "python",
   "pygments_lexer": "ipython3",
   "version": "3.10.13"
  }
 },
 "nbformat": 4,
 "nbformat_minor": 5
}
